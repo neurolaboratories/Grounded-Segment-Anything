{
 "cells": [
  {
   "cell_type": "code",
   "execution_count": 1,
   "id": "da5c8916",
   "metadata": {},
   "outputs": [
    {
     "name": "stderr",
     "output_type": "stream",
     "text": [
      "TqdmWarning: IProgress not found. Please update jupyter and ipywidgets. See https://ipywidgets.readthedocs.io/en/stable/user_install.html\n",
      "UserWarning: Failed to load custom C++ ops. Running on CPU mode Only!\n",
      "UserWarning: Failed to load custom C++ ops. Running on CPU mode Only!\n"
     ]
    }
   ],
   "source": [
    "import time\n",
    "import os\n",
    "os.sys.path.append(\"..\")\n",
    "from GroundingDINO.groundingdino.util.inference import (\n",
    "    predict,\n",
    "    batch_predict,\n",
    "    preprocess_caption,\n",
    ")\n",
    "from GroundingDINO.groundingdino.models import build_model\n",
    "from GroundingDINO.groundingdino.util.misc import clean_state_dict\n",
    "from GroundingDINO.groundingdino.util.slconfig import SLConfig\n",
    "from PIL import Image\n",
    "import torch\n",
    "import GroundingDINO.groundingdino.datasets.transforms as T\n",
    "import numpy as np"
   ]
  },
  {
   "cell_type": "code",
   "execution_count": 2,
   "id": "6a7bf9e5",
   "metadata": {},
   "outputs": [
    {
     "name": "stderr",
     "output_type": "stream",
     "text": [
      "UserWarning: torch.meshgrid: in an upcoming release, it will be required to pass the indexing argument. (Triggered internally at ../aten/src/ATen/native/TensorShape.cpp:3609.)\n"
     ]
    },
    {
     "name": "stdout",
     "output_type": "stream",
     "text": [
      "final text_encoder_type: bert-base-uncased\n"
     ]
    }
   ],
   "source": [
    "GROUNDING_DINO_CONFIG = (\n",
    "    \"/home/farouk-gpu/zia-vision/zia_vision/deploy/segmenter/grounding_dino_config.py\"\n",
    ")\n",
    "GROUNDING_DINO_MODEL = \"/home/farouk-gpu/models/checkpoint_best_regular-2.pth\"\n",
    "CAPTION = \"single . multipack . price . promo .\"\n",
    "\n",
    "\n",
    "def load_model(\n",
    "    model_config_path: str, model_checkpoint_path: str, device: str = \"cuda\"\n",
    "):\n",
    "    args = SLConfig.fromfile(model_config_path)\n",
    "    args.device = device\n",
    "    model = build_model(args)\n",
    "    checkpoint = torch.load(\n",
    "        model_checkpoint_path, map_location=\"cpu\", weights_only=False\n",
    "    )\n",
    "    model.load_state_dict(clean_state_dict(checkpoint[\"model\"]), strict=False)\n",
    "    model.eval()\n",
    "    return model\n",
    "\n",
    "\n",
    "image_file = \"/home/farouk-gpu/Grounded-Segment-Anything/scripts/data/a7d6a974-652b-4818-b7db-8fb6e9dbc896.jpg\"\n",
    "batch_size = 4\n",
    "device = \"cuda\"\n",
    "\n",
    "grounding_model = load_model(\n",
    "    model_config_path=GROUNDING_DINO_CONFIG,\n",
    "    model_checkpoint_path=GROUNDING_DINO_MODEL,\n",
    "    device=device,\n",
    ").to(device)"
   ]
  },
  {
   "cell_type": "code",
   "execution_count": 24,
   "id": "c00cfcc4",
   "metadata": {},
   "outputs": [],
   "source": [
    "caption = preprocess_caption(caption=CAPTION)\n",
    "text_dict = grounding_model.encode_captions(captions=[caption], device=\"cuda\")"
   ]
  },
  {
   "cell_type": "code",
   "execution_count": 4,
   "id": "52b16160",
   "metadata": {},
   "outputs": [],
   "source": [
    "from transformers import AutoProcessor, AutoModelForZeroShotObjectDetection\n",
    "model_id = \"IDEA-Research/grounding-dino-tiny\"\n",
    "device = \"cuda\"\n",
    "processor = AutoProcessor.from_pretrained(model_id)"
   ]
  },
  {
   "cell_type": "code",
   "execution_count": 5,
   "id": "20d125bd",
   "metadata": {},
   "outputs": [],
   "source": [
    " from PIL import Image\n",
    " image = Image.open(image_file).convert(\"RGB\")"
   ]
  },
  {
   "cell_type": "code",
   "execution_count": 15,
   "id": "bfb08c07",
   "metadata": {},
   "outputs": [],
   "source": [
    "inputs_single = processor(images=image, text=CAPTION, return_tensors=\"pt\")"
   ]
  },
  {
   "cell_type": "code",
   "execution_count": 10,
   "id": "cc4c31a2",
   "metadata": {},
   "outputs": [
    {
     "data": {
      "text/plain": [
       "torch.Size([1, 3, 1066, 800])"
      ]
     },
     "execution_count": 10,
     "metadata": {},
     "output_type": "execute_result"
    }
   ],
   "source": [
    "inputs_single['pixel_values'].shape"
   ]
  },
  {
   "cell_type": "code",
   "execution_count": 11,
   "id": "b7963782",
   "metadata": {},
   "outputs": [],
   "source": [
    "def pre_process_image(image: Image.Image) -> tuple[np.ndarray, torch.Tensor]:\n",
    "    transform = T.Compose(\n",
    "        [\n",
    "            T.RandomResize([800], max_size=1333),\n",
    "            # Resize((800, 1200)),\n",
    "            T.ToTensor(),\n",
    "            T.Normalize([0.485, 0.456, 0.406], [0.229, 0.224, 0.225]),\n",
    "        ]\n",
    "    )\n",
    "    image_np: np.ndarray = np.asarray(image)\n",
    "    image_transformed, _ = transform(image, None)\n",
    "    return image_np, image_transformed"
   ]
  },
  {
   "cell_type": "code",
   "execution_count": 18,
   "id": "d6f54264",
   "metadata": {},
   "outputs": [],
   "source": [
    "image_np, image_tensor = pre_process_image(image)"
   ]
  },
  {
   "cell_type": "code",
   "execution_count": 19,
   "id": "696e9952",
   "metadata": {},
   "outputs": [
    {
     "data": {
      "text/plain": [
       "True"
      ]
     },
     "execution_count": 19,
     "metadata": {},
     "output_type": "execute_result"
    }
   ],
   "source": [
    "torch.equal(image_tensor.unsqueeze_(0), inputs_single['pixel_values'])"
   ]
  },
  {
   "cell_type": "code",
   "execution_count": 25,
   "id": "4253ef53",
   "metadata": {},
   "outputs": [
    {
     "data": {
      "text/plain": [
       "tensor([[  101,  2309,  1012,  4800, 23947,  1012,  3976,  1012, 19430,  1012,\n",
       "           102]])"
      ]
     },
     "execution_count": 25,
     "metadata": {},
     "output_type": "execute_result"
    }
   ],
   "source": [
    "inputs_single['input_ids']"
   ]
  },
  {
   "cell_type": "code",
   "execution_count": 28,
   "id": "26c0dc81",
   "metadata": {},
   "outputs": [
    {
     "data": {
      "text/plain": [
       "dict_keys(['encoded_text', 'text_token_mask', 'position_ids', 'text_self_attention_masks'])"
      ]
     },
     "execution_count": 28,
     "metadata": {},
     "output_type": "execute_result"
    }
   ],
   "source": [
    "text_dict.keys()"
   ]
  },
  {
   "cell_type": "code",
   "execution_count": 29,
   "id": "8b441c87",
   "metadata": {},
   "outputs": [
    {
     "data": {
      "text/plain": [
       "tensor([[0, 0, 1, 0, 1, 2, 0, 1, 0, 1, 0]], device='cuda:0')"
      ]
     },
     "execution_count": 29,
     "metadata": {},
     "output_type": "execute_result"
    }
   ],
   "source": [
    "text_dict['position_ids']"
   ]
  },
  {
   "cell_type": "code",
   "execution_count": 33,
   "id": "6814cd1a",
   "metadata": {},
   "outputs": [
    {
     "data": {
      "text/plain": [
       "dict_keys(['pixel_values', 'pixel_mask'])"
      ]
     },
     "execution_count": 33,
     "metadata": {},
     "output_type": "execute_result"
    }
   ],
   "source": [
    "processor.image_processor(image).keys()"
   ]
  },
  {
   "cell_type": "code",
   "execution_count": 35,
   "id": "a86b2660",
   "metadata": {},
   "outputs": [],
   "source": [
    "from pathlib import Path\n",
    "images = [Image.open(file).convert(\"RGB\") for file in Path(\"/home/farouk-gpu/Grounded-Segment-Anything/scripts/data\").iterdir()]\n",
    "output = processor.image_processor(images)"
   ]
  },
  {
   "cell_type": "code",
   "execution_count": null,
   "id": "7686ac66",
   "metadata": {},
   "outputs": [
    {
     "data": {
      "text/plain": [
       "array([[False, False, False, ..., False, False, False],\n",
       "       [False, False, False, ..., False, False, False],\n",
       "       [False, False, False, ..., False, False, False],\n",
       "       ...,\n",
       "       [False, False, False, ..., False, False, False],\n",
       "       [False, False, False, ..., False, False, False],\n",
       "       [False, False, False, ..., False, False, False]])"
      ]
     },
     "execution_count": 47,
     "metadata": {},
     "output_type": "execute_result"
    }
   ],
   "source": [
    "output['pixel_mask'][0]"
   ]
  },
  {
   "cell_type": "code",
   "execution_count": 43,
   "id": "e5de336f",
   "metadata": {},
   "outputs": [
    {
     "data": {
      "text/plain": [
       "[(3840, 5120), (3000, 4000), (2448, 3264)]"
      ]
     },
     "execution_count": 43,
     "metadata": {},
     "output_type": "execute_result"
    }
   ],
   "source": [
    "[image.size for image in images]"
   ]
  },
  {
   "cell_type": "code",
   "execution_count": null,
   "id": "3a26cf42",
   "metadata": {},
   "outputs": [],
   "source": []
  }
 ],
 "metadata": {
  "kernelspec": {
   "display_name": "zia-vision",
   "language": "python",
   "name": "python3"
  },
  "language_info": {
   "codemirror_mode": {
    "name": "ipython",
    "version": 3
   },
   "file_extension": ".py",
   "mimetype": "text/x-python",
   "name": "python",
   "nbconvert_exporter": "python",
   "pygments_lexer": "ipython3",
   "version": "3.10.15"
  }
 },
 "nbformat": 4,
 "nbformat_minor": 5
}
